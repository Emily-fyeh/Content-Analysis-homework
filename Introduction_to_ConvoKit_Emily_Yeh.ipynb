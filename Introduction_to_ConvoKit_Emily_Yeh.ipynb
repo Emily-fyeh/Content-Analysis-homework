{
  "cells": [
    {
      "cell_type": "markdown",
      "metadata": {
        "id": "view-in-github",
        "colab_type": "text"
      },
      "source": [
        "<a href=\"https://colab.research.google.com/github/Emily-fyeh/Content-Analysis-homework/blob/main/Introduction_to_ConvoKit_Emily_Yeh.ipynb\" target=\"_parent\"><img src=\"https://colab.research.google.com/assets/colab-badge.svg\" alt=\"Open In Colab\"/></a>"
      ]
    },
    {
      "cell_type": "markdown",
      "metadata": {
        "id": "OQTQo5p18-c3"
      },
      "source": [
        "This tutorial introduces **ConvoKit**: a conversational analysis toolkit that offers:\n",
        "1. A *unified representation* for conversational data\n",
        "2. A *language* for describing *manipulations* of such data \n",
        "\n",
        "In this notebook, we cover the key ideas behind ConvoKit, as well as some of its most commonly used methods and functions. Read our [documentation](https://convokit.cornell.edu/documentation/) for an exhaustive coverage of ConvoKit's classes and functions."
      ]
    },
    {
      "cell_type": "code",
      "execution_count": null,
      "metadata": {
        "id": "b8WbaoWW8-c-"
      },
      "outputs": [],
      "source": [
        "try:\n",
        "    import convokit\n",
        "except ModuleNotFoundError:\n",
        "    !pip install convokit"
      ]
    },
    {
      "cell_type": "code",
      "execution_count": null,
      "metadata": {
        "id": "75HJ4a4H8-c_"
      },
      "outputs": [],
      "source": [
        "# for pretty printing of cells within the Colab version of this notebook\n",
        "from IPython.display import HTML, display\n",
        "\n",
        "def set_css():\n",
        "  display(HTML('''\n",
        "  <style>\n",
        "    pre {\n",
        "        white-space: pre-wrap;\n",
        "    }\n",
        "  </style>\n",
        "  '''))\n",
        "get_ipython().events.register('pre_run_cell', set_css)"
      ]
    },
    {
      "cell_type": "code",
      "execution_count": null,
      "metadata": {
        "id": "eLCvT73n8-dA",
        "outputId": "8190fcf7-ce87-47b7-e2c0-05a73f6bdafd"
      },
      "outputs": [
        {
          "data": {
            "text/html": [
              "\n",
              "  <style>\n",
              "    pre {\n",
              "        white-space: pre-wrap;\n",
              "    }\n",
              "  </style>\n",
              "  "
            ],
            "text/plain": [
              "<IPython.core.display.HTML object>"
            ]
          },
          "metadata": {},
          "output_type": "display_data"
        }
      ],
      "source": [
        "import convokit\n",
        "from convokit import Corpus, download"
      ]
    },
    {
      "cell_type": "markdown",
      "metadata": {
        "id": "AXhFPsbN8-dB"
      },
      "source": [
        "### Loading a Corpus"
      ]
    },
    {
      "cell_type": "markdown",
      "metadata": {
        "id": "0AQP7N4g8-dC"
      },
      "source": [
        "A Corpus represents a conversational dataset. We typically begin our analysis by loading a Corpus. A list of existing datasets already in ConvoKit format can be found [here](https://convokit.cornell.edu/documentation/datasets.html). \n",
        "\n",
        "A growing list of many other conversational datasets covering a variety of conversational settings are available in ConvoKit, such as face-to-face (e.g. the [*Intelligence Squared Debates corpus*](https://convokit.cornell.edu/documentation/iq2.html)), institutional (e.g. the [*Supreme Court Oral Arguments corpus*](https://convokit.cornell.edu/documentation/supreme.html)), fictional (e.g. the [*Cornell Movie Dialog Corpus*](https://convokit.cornell.edu/documentation/movie.html)), or online  (e.g. all talkpage conversations on [*Wikipedia Talk Pages*](https://convokit.cornell.edu/documentation/wiki.html) and a full dump of [*Reddit*](https://convokit.cornell.edu/documentation/subreddit.html)).\n",
        "\n",
        "For this tutorial, we will primarily be using the *r/Cornell* subreddit corpus to demo various ConvoKit functionality, and occasionally the [*Switchboard Dialog Act Corpus*](https://convokit.cornell.edu/documentation/switchboard.html) (a collection of anonymized five-minute telephone conversations) as a contrasting dataset."
      ]
    },
    {
      "cell_type": "code",
      "execution_count": null,
      "metadata": {
        "id": "azlylosu8-dD",
        "outputId": "4c753fb2-a1be-41ae-999b-b2e2c897a2df"
      },
      "outputs": [
        {
          "data": {
            "text/html": [
              "\n",
              "  <style>\n",
              "    pre {\n",
              "        white-space: pre-wrap;\n",
              "    }\n",
              "  </style>\n",
              "  "
            ],
            "text/plain": [
              "<IPython.core.display.HTML object>"
            ]
          },
          "metadata": {},
          "output_type": "display_data"
        },
        {
          "name": "stdout",
          "output_type": "stream",
          "text": [
            "Dataset already exists at /Users/calebchiam/.convokit/downloads/subreddit-Cornell\n"
          ]
        }
      ],
      "source": [
        "corpus = Corpus(download('subreddit-Cornell'))"
      ]
    },
    {
      "cell_type": "code",
      "execution_count": null,
      "metadata": {
        "id": "jMlhaAmP8-dE",
        "outputId": "b719ce7e-f145-489d-b53d-c2afc3a19e7f"
      },
      "outputs": [
        {
          "data": {
            "text/html": [
              "\n",
              "  <style>\n",
              "    pre {\n",
              "        white-space: pre-wrap;\n",
              "    }\n",
              "  </style>\n",
              "  "
            ],
            "text/plain": [
              "<IPython.core.display.HTML object>"
            ]
          },
          "metadata": {},
          "output_type": "display_data"
        },
        {
          "name": "stdout",
          "output_type": "stream",
          "text": [
            "Dataset already exists at /Users/calebchiam/.convokit/downloads/switchboard-corpus\n"
          ]
        }
      ],
      "source": [
        "switchboard_corpus = Corpus(download('switchboard-corpus'))"
      ]
    },
    {
      "cell_type": "markdown",
      "metadata": {
        "id": "iAvnuLqq8-dF"
      },
      "source": [
        "### Corpus components: Conversations, Utterances, Speakers"
      ]
    },
    {
      "cell_type": "markdown",
      "metadata": {
        "id": "B4EsZQET8-dF"
      },
      "source": [
        "Every Corpus has three main components: [Conversations](https://convokit.cornell.edu/documentation/conversation.html), [Utterances](https://convokit.cornell.edu/documentation/utterance.html), and [Speakers](https://convokit.cornell.edu/documentation/speaker.html). Just as in real life, in ConvoKit, Conversations are some sequence of Utterances, where each Utterance is made by some Speaker."
      ]
    },
    {
      "cell_type": "code",
      "execution_count": null,
      "metadata": {
        "id": "hF_quQ-78-dG",
        "outputId": "a1413608-b146-459b-9a82-0ab8d74ce08a"
      },
      "outputs": [
        {
          "data": {
            "text/html": [
              "\n",
              "  <style>\n",
              "    pre {\n",
              "        white-space: pre-wrap;\n",
              "    }\n",
              "  </style>\n",
              "  "
            ],
            "text/plain": [
              "<IPython.core.display.HTML object>"
            ]
          },
          "metadata": {},
          "output_type": "display_data"
        },
        {
          "name": "stdout",
          "output_type": "stream",
          "text": [
            "Number of Speakers: 7568\n",
            "Number of Utterances: 74467\n",
            "Number of Conversations: 10744\n"
          ]
        }
      ],
      "source": [
        "corpus.print_summary_stats()"
      ]
    },
    {
      "cell_type": "markdown",
      "metadata": {
        "id": "hsXTTuQ58-dH"
      },
      "source": [
        "Each component has a consistent data format, consisting of a set of *primary data fields* and *metadata attributes*."
      ]
    },
    {
      "cell_type": "markdown",
      "metadata": {
        "id": "m3JIXlch8-dH"
      },
      "source": [
        "**Primary data fields** are for information that is central to every Conversation, Utterance, and Speaker object. This includes IDs for the objects, and for Utterances specifically, there are other fields such as: text, timestamp, reply_to (the ID of the Utterance being responded to)."
      ]
    },
    {
      "cell_type": "code",
      "execution_count": null,
      "metadata": {
        "id": "prl0HbtM8-dH",
        "outputId": "e040056f-2d0a-4c87-82ef-0d58390f0e4f"
      },
      "outputs": [
        {
          "data": {
            "text/html": [
              "\n",
              "  <style>\n",
              "    pre {\n",
              "        white-space: pre-wrap;\n",
              "    }\n",
              "  </style>\n",
              "  "
            ],
            "text/plain": [
              "<IPython.core.display.HTML object>"
            ]
          },
          "metadata": {},
          "output_type": "display_data"
        }
      ],
      "source": [
        "# Let's see this in a random utterance from the r/Cornell Corpus\n",
        "utt = corpus.random_utterance()"
      ]
    },
    {
      "cell_type": "code",
      "execution_count": null,
      "metadata": {
        "id": "UUJ--Tx08-dI",
        "outputId": "7a51b701-bcad-4651-dd78-b335eae862d8"
      },
      "outputs": [
        {
          "data": {
            "text/html": [
              "\n",
              "  <style>\n",
              "    pre {\n",
              "        white-space: pre-wrap;\n",
              "    }\n",
              "  </style>\n",
              "  "
            ],
            "text/plain": [
              "<IPython.core.display.HTML object>"
            ]
          },
          "metadata": {},
          "output_type": "display_data"
        },
        {
          "name": "stdout",
          "output_type": "stream",
          "text": [
            "Utterance(id: 'dgmomzg', conversation_id: 66rq5i, reply-to: dgmndqu, speaker: Speaker(id: releg, vectors: [], meta: {}), timestamp: 1492920262, text: \"No, 3 classes have B+'s (3.3), 2 classes have B's (3.0), 3 classes have A-'s (3.7), and 5 classes have A's (4.0). Therefore, the average of all of those classes is 3.615, meaning that roughly half of the communications majors are getting less than a 3.6. For law school-- that is suicide. Harvard Law (I used them because they provide numbers) enrolls less than 25% of its incoming class with numbers like that (http://hls.harvard.edu/dept/jdadmissions/apply-to-harvard-law-school/hls-profile-and-facts/). That is frightening. \\n\\nMy initial question, which I hoped you would answer instead of chastising me, asks how hard it would be to get a 4.0 at Cornell in the comm major. The answer appears to be really f'ing hard.\\n\\nThe reason why we are having this back and forth is because you keep saying the contrary-- that it's relatively easy... and I'm asking for evidence because I desperately want to believe that. I am genuinely hopeful that it's easy. I want to major in comm. I have a huge passion for comm. But I have an even greater aspiration for law school. Law school will play a more pivotal role in my life, my career, and whatever other endeavors I pursuit. For that reason, I need a 4.0 (or around). However, I also want to party at cornell, have fun, etc.. \\n\\nI was hoping that Comm could give me the best of both worlds. Apparently, it cant, because its super hard.. Therefore, I may have to reconsider and major in something stupid like History (2 B's), Music (O B's), or NES (0 B's)\\n\\nLastly, regarding my evidence, 50% of comm students (according to the numbers you provided in the median report), get under a 3.6 for their comm classes solely. That alone justifies my conclusion. \\n\\nPlease prove me wrong-- I genuinely want you to.\", vectors: [], meta: {'score': 1, 'top_level_comment': 'dgksrll', 'retrieved_on': 1494302017, 'gilded': 0, 'gildings': None, 'subreddit': 'Cornell', 'stickied': False, 'permalink': '', 'author_flair_text': ''})\n"
          ]
        }
      ],
      "source": [
        "print(utt)"
      ]
    },
    {
      "cell_type": "code",
      "execution_count": null,
      "metadata": {
        "id": "EV14LGCE8-dI",
        "outputId": "e0f55ace-07ea-4c9e-b293-ee412edfcbae"
      },
      "outputs": [
        {
          "data": {
            "text/html": [
              "\n",
              "  <style>\n",
              "    pre {\n",
              "        white-space: pre-wrap;\n",
              "    }\n",
              "  </style>\n",
              "  "
            ],
            "text/plain": [
              "<IPython.core.display.HTML object>"
            ]
          },
          "metadata": {},
          "output_type": "display_data"
        },
        {
          "name": "stdout",
          "output_type": "stream",
          "text": [
            "ID: dgmomzg \n",
            "\n",
            "Reply_to: dgmndqu \n",
            "\n",
            "Timestamp: 1492920262 \n",
            "\n",
            "Text: No, 3 classes have B+'s (3.3), 2 classes have B's (3.0), 3 classes have A-'s (3.7), and 5 classes have A's (4.0). Therefore, the average of all of those classes is 3.615, meaning that roughly half of the communications majors are getting less than a 3.6. For law school-- that is suicide. Harvard Law (I used them because they provide numbers) enrolls less than 25% of its incoming class with numbers like that (http://hls.harvard.edu/dept/jdadmissions/apply-to-harvard-law-school/hls-profile-and-facts/). That is frightening. \n",
            "\n",
            "My initial question, which I hoped you would answer instead of chastising me, asks how hard it would be to get a 4.0 at Cornell in the comm major. The answer appears to be really f'ing hard.\n",
            "\n",
            "The reason why we are having this back and forth is because you keep saying the contrary-- that it's relatively easy... and I'm asking for evidence because I desperately want to believe that. I am genuinely hopeful that it's easy. I want to major in comm. I have a huge passion for comm. But I have an even greater aspiration for law school. Law school will play a more pivotal role in my life, my career, and whatever other endeavors I pursuit. For that reason, I need a 4.0 (or around). However, I also want to party at cornell, have fun, etc.. \n",
            "\n",
            "I was hoping that Comm could give me the best of both worlds. Apparently, it cant, because its super hard.. Therefore, I may have to reconsider and major in something stupid like History (2 B's), Music (O B's), or NES (0 B's)\n",
            "\n",
            "Lastly, regarding my evidence, 50% of comm students (according to the numbers you provided in the median report), get under a 3.6 for their comm classes solely. That alone justifies my conclusion. \n",
            "\n",
            "Please prove me wrong-- I genuinely want you to. \n",
            "\n",
            "Conversation ID: 66rq5i \n",
            "\n",
            "Speaker ID: releg\n"
          ]
        }
      ],
      "source": [
        "# primary data fields\n",
        "print(\"ID:\", utt.id, \"\\n\")\n",
        "print(\"Reply_to:\", utt.reply_to, \"\\n\")\n",
        "print(\"Timestamp:\", utt.timestamp, \"\\n\")\n",
        "print(\"Text:\", utt.text, \"\\n\")\n",
        "print(\"Conversation ID:\", utt.conversation_id, \"\\n\")\n",
        "print(\"Speaker ID:\", utt.speaker.id)"
      ]
    },
    {
      "cell_type": "markdown",
      "metadata": {
        "id": "VK3OeUG88-dJ"
      },
      "source": [
        "**Metadata attributes** are for additional features/labels/annotations for these component objects that might not generalize across corpora. Every component object (i.e. Speaker, Conversation, Utterance) has its own metadata. These can be accessed through the ``.meta`` field of these objects."
      ]
    },
    {
      "cell_type": "code",
      "execution_count": null,
      "metadata": {
        "id": "xGDezVCa8-dJ",
        "outputId": "350ec83c-bf72-4942-d60d-228af51e290d"
      },
      "outputs": [
        {
          "data": {
            "text/html": [
              "\n",
              "  <style>\n",
              "    pre {\n",
              "        white-space: pre-wrap;\n",
              "    }\n",
              "  </style>\n",
              "  "
            ],
            "text/plain": [
              "<IPython.core.display.HTML object>"
            ]
          },
          "metadata": {},
          "output_type": "display_data"
        },
        {
          "data": {
            "text/plain": [
              "{'score': 1,\n",
              " 'top_level_comment': 'dgksrll',\n",
              " 'retrieved_on': 1494302017,\n",
              " 'gilded': 0,\n",
              " 'gildings': None,\n",
              " 'subreddit': 'Cornell',\n",
              " 'stickied': False,\n",
              " 'permalink': '',\n",
              " 'author_flair_text': ''}"
            ]
          },
          "execution_count": 10,
          "metadata": {},
          "output_type": "execute_result"
        }
      ],
      "source": [
        "utt.meta"
      ]
    },
    {
      "cell_type": "markdown",
      "metadata": {
        "id": "IMWOE4Ye8-dJ"
      },
      "source": [
        "For example, we see that Reddit Utterances have Reddit-specific metadata, such as comment score (from upvotes / downvotes) and subreddit this Utterance belongs to."
      ]
    },
    {
      "cell_type": "markdown",
      "metadata": {
        "id": "FfTSOLUT8-dJ"
      },
      "source": [
        "Conversations and Utterances have a similar format:"
      ]
    },
    {
      "cell_type": "code",
      "execution_count": null,
      "metadata": {
        "id": "6isoIwXb8-dK",
        "outputId": "29b6a645-934a-4446-e506-3fc8014503b9"
      },
      "outputs": [
        {
          "data": {
            "text/html": [
              "\n",
              "  <style>\n",
              "    pre {\n",
              "        white-space: pre-wrap;\n",
              "    }\n",
              "  </style>\n",
              "  "
            ],
            "text/plain": [
              "<IPython.core.display.HTML object>"
            ]
          },
          "metadata": {},
          "output_type": "display_data"
        },
        {
          "name": "stdout",
          "output_type": "stream",
          "text": [
            "Conversation('id': '8nvgwe', 'utterances': ['8nvgwe', 'dzynpj0', 'dzypd4w', 'dzypink', 'dzypx0d', 'dzys3at', 'dzysfeu', 'dzyt2lf', 'dzz0ikn', 'dzz6dmi', 'dzz6hyq', 'dzz9if7', 'dzzlpur', 'dzzn7zk', 'dzzo0no', 'dzzunig', 'dzzyv1q', 'e003okx', 'e004qz7', 'e00yfnw', 'e01jpb7', 'e02fj8f', 'e0d3o93', 'e5fnjf6'], 'meta': {'title': 'Is big red shipping trash?', 'num_comments': 20, 'domain': 'self.Cornell', 'timestamp': 1527887158, 'subreddit': 'Cornell', 'gilded': 0, 'gildings': None, 'stickied': False, 'author_flair_text': ''})\n",
            "\n"
          ]
        },
        {
          "data": {
            "text/plain": [
              "{'title': 'Is big red shipping trash?',\n",
              " 'num_comments': 20,\n",
              " 'domain': 'self.Cornell',\n",
              " 'timestamp': 1527887158,\n",
              " 'subreddit': 'Cornell',\n",
              " 'gilded': 0,\n",
              " 'gildings': None,\n",
              " 'stickied': False,\n",
              " 'author_flair_text': ''}"
            ]
          },
          "execution_count": 11,
          "metadata": {},
          "output_type": "execute_result"
        }
      ],
      "source": [
        "convo = corpus.random_conversation()\n",
        "print(convo)\n",
        "print()\n",
        "convo.meta"
      ]
    },
    {
      "cell_type": "code",
      "execution_count": null,
      "metadata": {
        "id": "Ttgyy4O38-dK",
        "outputId": "07987959-8bcb-487a-82df-9f7b4f6a2e09"
      },
      "outputs": [
        {
          "data": {
            "text/html": [
              "\n",
              "  <style>\n",
              "    pre {\n",
              "        white-space: pre-wrap;\n",
              "    }\n",
              "  </style>\n",
              "  "
            ],
            "text/plain": [
              "<IPython.core.display.HTML object>"
            ]
          },
          "metadata": {},
          "output_type": "display_data"
        },
        {
          "name": "stdout",
          "output_type": "stream",
          "text": [
            "Speaker(id: 1497, vectors: [], meta: {'sex': 'MALE', 'education': 2, 'birth_year': 1932, 'dialect_area': 'WESTERN'})\n",
            "\n"
          ]
        },
        {
          "data": {
            "text/plain": [
              "{'sex': 'MALE', 'education': 2, 'birth_year': 1932, 'dialect_area': 'WESTERN'}"
            ]
          },
          "execution_count": 12,
          "metadata": {},
          "output_type": "execute_result"
        }
      ],
      "source": [
        "# We use Switchboard's speakers as they have more interesting metadata\n",
        "speaker = switchboard_corpus.random_speaker()\n",
        "print(speaker)\n",
        "print()\n",
        "speaker.meta"
      ]
    },
    {
      "cell_type": "markdown",
      "metadata": {
        "id": "QtXNmuBu8-dL"
      },
      "source": [
        "### KEY IDEA: Metadata"
      ]
    },
    {
      "cell_type": "markdown",
      "metadata": {
        "id": "je5P4kY38-dL"
      },
      "source": [
        "Every component object has primary data fields -- fields that are fixed and invariable across all corpora. \n",
        "\n",
        "**Metadata** is where you *customize* the Corpus to your use case.\n",
        "\n",
        "When working with your own metadata, you may we want to add elements specific to your own dataset. The metadata of each object is a dict-like structure that can be customized according to your needs. As such, you may do things like:\n",
        "\n",
        "- Store the dependency parse of an Utterance\n",
        "- Label a component according to your own categories\n",
        "- List the dialog acts present in a Conversation\n",
        "\n",
        "The **key idea** is that you should think of metadata as a flexible structure for adding any type of additional information that you may need to work with these objects."
      ]
    },
    {
      "cell_type": "code",
      "execution_count": null,
      "metadata": {
        "id": "kROqLYr-8-dM",
        "outputId": "c9ce34dc-c71b-4c28-efd3-51323922a4ff"
      },
      "outputs": [
        {
          "data": {
            "text/html": [
              "\n",
              "  <style>\n",
              "    pre {\n",
              "        white-space: pre-wrap;\n",
              "    }\n",
              "  </style>\n",
              "  "
            ],
            "text/plain": [
              "<IPython.core.display.HTML object>"
            ]
          },
          "metadata": {},
          "output_type": "display_data"
        },
        {
          "name": "stdout",
          "output_type": "stream",
          "text": [
            "Dataset already exists at /Users/calebchiam/.convokit/downloads/diplomacy-corpus\n"
          ]
        },
        {
          "data": {
            "text/plain": [
              "{'speaker_intention': 'Truth',\n",
              " 'receiver_perception': 'Truth',\n",
              " 'receiver': 'england-Game3',\n",
              " 'absolute_message_index': 1225,\n",
              " 'relative_message_index': 247,\n",
              " 'year': '1905',\n",
              " 'game_score': '7',\n",
              " 'game_score_delta': '1',\n",
              " 'deception_quadrant': 'Straightforward'}"
            ]
          },
          "execution_count": 13,
          "metadata": {},
          "output_type": "execute_result"
        }
      ],
      "source": [
        "# Here's an example of a corpus with more sophisticated labels such as speaker intentions and perceptions\n",
        "deception_corpus = Corpus(download('diplomacy-corpus'))\n",
        "deception_corpus.random_utterance().meta"
      ]
    },
    {
      "cell_type": "code",
      "execution_count": null,
      "metadata": {
        "id": "Nk_63Eq78-dM",
        "outputId": "1fe1072b-2b22-4a9a-b0c8-34fa72fdce1c"
      },
      "outputs": [
        {
          "data": {
            "text/html": [
              "\n",
              "  <style>\n",
              "    pre {\n",
              "        white-space: pre-wrap;\n",
              "    }\n",
              "  </style>\n",
              "  "
            ],
            "text/plain": [
              "<IPython.core.display.HTML object>"
            ]
          },
          "metadata": {},
          "output_type": "display_data"
        },
        {
          "data": {
            "text/plain": [
              "{'tag': [['{F Oh, } is that right? /', 'bh']]}"
            ]
          },
          "execution_count": 14,
          "metadata": {},
          "output_type": "execute_result"
        }
      ],
      "source": [
        "# Another example is Switchboard, which has utterances with a list of [text segment, tag] pairs, \n",
        "# where tag refers to the DAMSL speech act tag.\n",
        "switchboard_corpus.random_utterance().meta"
      ]
    },
    {
      "cell_type": "code",
      "execution_count": null,
      "metadata": {
        "id": "Gax8lZI78-dM",
        "outputId": "407508d7-d972-4f57-ab1f-214afe405429"
      },
      "outputs": [
        {
          "data": {
            "text/html": [
              "\n",
              "  <style>\n",
              "    pre {\n",
              "        white-space: pre-wrap;\n",
              "    }\n",
              "  </style>\n",
              "  "
            ],
            "text/plain": [
              "<IPython.core.display.HTML object>"
            ]
          },
          "metadata": {},
          "output_type": "display_data"
        },
        {
          "data": {
            "text/plain": [
              "{'score': 1,\n",
              " 'top_level_comment': 'dgksrll',\n",
              " 'retrieved_on': 1494302017,\n",
              " 'gilded': 0,\n",
              " 'gildings': None,\n",
              " 'subreddit': 'Cornell',\n",
              " 'stickied': False,\n",
              " 'permalink': '',\n",
              " 'author_flair_text': '',\n",
              " 'dialog_acts': ['question', 'request']}"
            ]
          },
          "execution_count": 15,
          "metadata": {},
          "output_type": "execute_result"
        }
      ],
      "source": [
        "# How to add metadata\n",
        "utt.meta['dialog_acts'] = ['question', 'request']\n",
        "utt.meta"
      ]
    },
    {
      "cell_type": "code",
      "execution_count": null,
      "metadata": {
        "id": "j-jGymTa8-dM",
        "outputId": "800fd16b-1569-4388-bd69-8aacd2ae55d0"
      },
      "outputs": [
        {
          "data": {
            "text/html": [
              "\n",
              "  <style>\n",
              "    pre {\n",
              "        white-space: pre-wrap;\n",
              "    }\n",
              "  </style>\n",
              "  "
            ],
            "text/plain": [
              "<IPython.core.display.HTML object>"
            ]
          },
          "metadata": {},
          "output_type": "display_data"
        },
        {
          "data": {
            "text/plain": [
              "{'title': 'Is big red shipping trash?',\n",
              " 'num_comments': 20,\n",
              " 'domain': 'self.Cornell',\n",
              " 'timestamp': 1527887158,\n",
              " 'subreddit': 'Cornell',\n",
              " 'gilded': 0,\n",
              " 'gildings': None,\n",
              " 'stickied': False,\n",
              " 'author_flair_text': '',\n",
              " 'toxicity_score': 5}"
            ]
          },
          "execution_count": 16,
          "metadata": {},
          "output_type": "execute_result"
        }
      ],
      "source": [
        "# This is an equivalent way of adding metadata\n",
        "convo.add_meta('toxicity_score', 5)\n",
        "convo.meta"
      ]
    },
    {
      "cell_type": "markdown",
      "metadata": {
        "id": "PhQD783Y8-dN"
      },
      "source": [
        "What if you would like to add metadata for all your Corpus components in a systematic way? You could iterate through the Corpus components and add the metadata accordingly, or you could apply a Transformer to the corpus. We will explain how to do iteration and the concept of a Transformer later on in this notebook."
      ]
    },
    {
      "cell_type": "markdown",
      "metadata": {
        "id": "gx6q_qF58-dN"
      },
      "source": [
        "#### Vectors in ConvoKit"
      ]
    },
    {
      "cell_type": "markdown",
      "metadata": {
        "id": "mWYj6Ddc8-dN"
      },
      "source": [
        "Vector data is also easy to use in ConvoKit and we provide first-class support for integrating vector data with Corpus components. Read our [introduction to vectors in ConvoKit](https://github.com/CornellNLP/Cornell-Conversational-Analysis-Toolkit/blob/master/examples/vectors/vector_demo.ipynb) for more details."
      ]
    },
    {
      "cell_type": "markdown",
      "metadata": {
        "id": "CJwO3TBm8-dN"
      },
      "source": [
        "### What else can we do with the Corpus object?"
      ]
    },
    {
      "cell_type": "markdown",
      "metadata": {
        "id": "iMUPp8Fo8-dN"
      },
      "source": [
        "#### Fetching components by ID"
      ]
    },
    {
      "cell_type": "code",
      "execution_count": null,
      "metadata": {
        "scrolled": true,
        "id": "-Oh2yg2c8-dN",
        "outputId": "64d20c68-2421-43dc-8514-f0db098d88f1"
      },
      "outputs": [
        {
          "data": {
            "text/html": [
              "\n",
              "  <style>\n",
              "    pre {\n",
              "        white-space: pre-wrap;\n",
              "    }\n",
              "  </style>\n",
              "  "
            ],
            "text/plain": [
              "<IPython.core.display.HTML object>"
            ]
          },
          "metadata": {},
          "output_type": "display_data"
        },
        {
          "data": {
            "text/plain": [
              "Speaker({'obj_type': 'speaker', 'meta': {}, 'vectors': [], 'owner': <convokit.model.corpus.Corpus object at 0x7fc498aa4cd0>, 'id': 'ulysses2014'})"
            ]
          },
          "execution_count": 17,
          "metadata": {},
          "output_type": "execute_result"
        }
      ],
      "source": [
        "# We can fetch individual objects by ID\n",
        "corpus.get_speaker('ulysses2014')\n",
        "# corpus.get_conversation('7bir0w')\n",
        "# corpus.get_utterance('dsyd46r')"
      ]
    },
    {
      "cell_type": "code",
      "execution_count": null,
      "metadata": {
        "id": "jieDwV1k8-dO",
        "outputId": "c7db7340-c8d0-47a4-dea0-a15f9ab106a5"
      },
      "outputs": [
        {
          "data": {
            "text/html": [
              "\n",
              "  <style>\n",
              "    pre {\n",
              "        white-space: pre-wrap;\n",
              "    }\n",
              "  </style>\n",
              "  "
            ],
            "text/plain": [
              "<IPython.core.display.HTML object>"
            ]
          },
          "metadata": {},
          "output_type": "display_data"
        },
        {
          "data": {
            "text/plain": [
              "True"
            ]
          },
          "execution_count": 18,
          "metadata": {},
          "output_type": "execute_result"
        }
      ],
      "source": [
        "# We can check if the Corpus contains an object with a specified ID\n",
        "corpus.has_speaker('ulysses2014')\n",
        "# corpus.has_conversation('7bir0w')\n",
        "# corpus.has_utterance('dsyd46r')"
      ]
    },
    {
      "cell_type": "code",
      "execution_count": null,
      "metadata": {
        "id": "2CeeFSKM8-dO",
        "outputId": "d30e557f-61de-447e-d560-e1f249ed44fe"
      },
      "outputs": [
        {
          "data": {
            "text/html": [
              "\n",
              "  <style>\n",
              "    pre {\n",
              "        white-space: pre-wrap;\n",
              "    }\n",
              "  </style>\n",
              "  "
            ],
            "text/plain": [
              "<IPython.core.display.HTML object>"
            ]
          },
          "metadata": {},
          "output_type": "display_data"
        },
        {
          "data": {
            "text/plain": [
              "{'filename': './swda/sw03utt/sw_0390_2241.utt.csv',\n",
              " 'talk_day': '1991-3-25',\n",
              " 'topic_description': 'GARDENING',\n",
              " 'length': 10,\n",
              " 'prompt': 'FIND OUT WHAT THE OTHER CALLER DOES IN THE WAY OF LAWN AND GARDEN WORK.DOES THE OTHER CALL ENJOY DOING IT?  COMPARE THIS TO YOUR OWN SITUATION.',\n",
              " 'from_caller': '1169',\n",
              " 'to_caller': '1142'}"
            ]
          },
          "execution_count": 19,
          "metadata": {},
          "output_type": "execute_result"
        }
      ],
      "source": [
        "switchboard_corpus.random_conversation().meta"
      ]
    },
    {
      "cell_type": "code",
      "execution_count": null,
      "metadata": {
        "id": "EC3R9cJq8-dO",
        "outputId": "c310a305-466a-4784-813f-d1abc1aa3564"
      },
      "outputs": [
        {
          "data": {
            "text/html": [
              "\n",
              "  <style>\n",
              "    pre {\n",
              "        white-space: pre-wrap;\n",
              "    }\n",
              "  </style>\n",
              "  "
            ],
            "text/plain": [
              "<IPython.core.display.HTML object>"
            ]
          },
          "metadata": {},
          "output_type": "display_data"
        },
        {
          "data": {
            "text/plain": [
              "{'sex': 'FEMALE',\n",
              " 'education': 2,\n",
              " 'birth_year': 1956,\n",
              " 'dialect_area': 'NORTH MIDLAND'}"
            ]
          },
          "execution_count": 20,
          "metadata": {},
          "output_type": "execute_result"
        }
      ],
      "source": [
        "switchboard_corpus.random_speaker().meta"
      ]
    },
    {
      "cell_type": "code",
      "execution_count": null,
      "metadata": {
        "id": "rl6-K0S48-dP",
        "outputId": "d56978ee-69ea-4691-b3e0-e3e6dab1d575"
      },
      "outputs": [
        {
          "data": {
            "text/html": [
              "\n",
              "  <style>\n",
              "    pre {\n",
              "        white-space: pre-wrap;\n",
              "    }\n",
              "  </style>\n",
              "  "
            ],
            "text/plain": [
              "<IPython.core.display.HTML object>"
            ]
          },
          "metadata": {},
          "output_type": "display_data"
        },
        {
          "data": {
            "text/plain": [
              "{'tag': [[\"it's really, - /\", '+'],\n",
              "  ['[ I, + I ] try to avoid making anything that, too fancy, that,', 'sd']]}"
            ]
          },
          "execution_count": 21,
          "metadata": {},
          "output_type": "execute_result"
        }
      ],
      "source": [
        "switchboard_corpus.random_utterance().meta"
      ]
    },
    {
      "cell_type": "code",
      "execution_count": null,
      "metadata": {
        "id": "YkGaTeJ-8-dP",
        "outputId": "9c244b96-9e85-45a2-922a-72735977c8a9"
      },
      "outputs": [
        {
          "data": {
            "text/html": [
              "\n",
              "  <style>\n",
              "    pre {\n",
              "        white-space: pre-wrap;\n",
              "    }\n",
              "  </style>\n",
              "  "
            ],
            "text/plain": [
              "<IPython.core.display.HTML object>"
            ]
          },
          "metadata": {},
          "output_type": "display_data"
        },
        {
          "name": "stdout",
          "output_type": "stream",
          "text": [
            "Number of Speakers: 440\n",
            "Number of Utterances: 122646\n",
            "Number of Conversations: 1155\n"
          ]
        }
      ],
      "source": [
        "switchboard_corpus.print_summary_stats()"
      ]
    },
    {
      "cell_type": "markdown",
      "metadata": {
        "id": "nMCHENE38-dP"
      },
      "source": [
        "#### Iterating through Corpus components"
      ]
    },
    {
      "cell_type": "markdown",
      "metadata": {
        "id": "6WATWrV-8-dP"
      },
      "source": [
        "We can iterate through any of these components, though we exit the for-loop early here to avoid excessive output:"
      ]
    },
    {
      "cell_type": "code",
      "execution_count": null,
      "metadata": {
        "id": "mFAArnUx8-dP",
        "outputId": "f43ddfd4-5c28-4094-9966-61abd2924877"
      },
      "outputs": [
        {
          "data": {
            "text/html": [
              "\n",
              "  <style>\n",
              "    pre {\n",
              "        white-space: pre-wrap;\n",
              "    }\n",
              "  </style>\n",
              "  "
            ],
            "text/plain": [
              "<IPython.core.display.HTML object>"
            ]
          },
          "metadata": {},
          "output_type": "display_data"
        },
        {
          "name": "stdout",
          "output_type": "stream",
          "text": [
            "I was just reading about the Princeton Mic-Check and it's getting [national press](http://www.bloomberg.com/news/2011-12-29/princeton-brews-trouble-for-us-1-percenters-commentary-by-michael-lewis.html).\n",
            "\n",
            "I want to get a sense of what people felt like around campus. Anything interesting happen? Anything interesting coming up?\n"
          ]
        }
      ],
      "source": [
        "for utt in corpus.iter_utterances():\n",
        "    print(utt.text)\n",
        "    break "
      ]
    },
    {
      "cell_type": "code",
      "execution_count": null,
      "metadata": {
        "id": "OQlXfnT48-dP",
        "outputId": "ce897019-3eb3-45f2-9d84-69ed3cd6f13f"
      },
      "outputs": [
        {
          "data": {
            "text/html": [
              "\n",
              "  <style>\n",
              "    pre {\n",
              "        white-space: pre-wrap;\n",
              "    }\n",
              "  </style>\n",
              "  "
            ],
            "text/plain": [
              "<IPython.core.display.HTML object>"
            ]
          },
          "metadata": {},
          "output_type": "display_data"
        },
        {
          "name": "stdout",
          "output_type": "stream",
          "text": [
            "1\n"
          ]
        }
      ],
      "source": [
        "for convo in corpus.iter_conversations():\n",
        "    print(convo.meta['num_comments'])\n",
        "    break"
      ]
    },
    {
      "cell_type": "code",
      "execution_count": null,
      "metadata": {
        "id": "xhdmCEl98-dP",
        "outputId": "0da7e9d5-efa5-41cd-f474-1259e67621d7"
      },
      "outputs": [
        {
          "data": {
            "text/html": [
              "\n",
              "  <style>\n",
              "    pre {\n",
              "        white-space: pre-wrap;\n",
              "    }\n",
              "  </style>\n",
              "  "
            ],
            "text/plain": [
              "<IPython.core.display.HTML object>"
            ]
          },
          "metadata": {},
          "output_type": "display_data"
        },
        {
          "name": "stdout",
          "output_type": "stream",
          "text": [
            "reddmau5\n"
          ]
        }
      ],
      "source": [
        "for speaker in corpus.iter_speakers():\n",
        "    print(speaker.id)\n",
        "    break"
      ]
    },
    {
      "cell_type": "markdown",
      "metadata": {
        "id": "L-hC2fR68-dQ"
      },
      "source": [
        "#### Generating component DataFrames"
      ]
    },
    {
      "cell_type": "code",
      "execution_count": null,
      "metadata": {
        "id": "KnLGDJ_L8-dQ",
        "outputId": "0538524a-5f09-4198-a4af-e71f2fc1081b"
      },
      "outputs": [
        {
          "data": {
            "text/html": [
              "\n",
              "  <style>\n",
              "    pre {\n",
              "        white-space: pre-wrap;\n",
              "    }\n",
              "  </style>\n",
              "  "
            ],
            "text/plain": [
              "<IPython.core.display.HTML object>"
            ]
          },
          "metadata": {},
          "output_type": "display_data"
        },
        {
          "data": {
            "text/html": [
              "<div>\n",
              "<style scoped>\n",
              "    .dataframe tbody tr th:only-of-type {\n",
              "        vertical-align: middle;\n",
              "    }\n",
              "\n",
              "    .dataframe tbody tr th {\n",
              "        vertical-align: top;\n",
              "    }\n",
              "\n",
              "    .dataframe thead th {\n",
              "        text-align: right;\n",
              "    }\n",
              "</style>\n",
              "<table border=\"1\" class=\"dataframe\">\n",
              "  <thead>\n",
              "    <tr style=\"text-align: right;\">\n",
              "      <th></th>\n",
              "      <th>meta.birth_year</th>\n",
              "      <th>meta.dialect_area</th>\n",
              "      <th>meta.education</th>\n",
              "      <th>meta.sex</th>\n",
              "      <th>vectors</th>\n",
              "    </tr>\n",
              "    <tr>\n",
              "      <th>id</th>\n",
              "      <th></th>\n",
              "      <th></th>\n",
              "      <th></th>\n",
              "      <th></th>\n",
              "      <th></th>\n",
              "    </tr>\n",
              "  </thead>\n",
              "  <tbody>\n",
              "    <tr>\n",
              "      <th>1519</th>\n",
              "      <td>1971</td>\n",
              "      <td>SOUTH MIDLAND</td>\n",
              "      <td>1</td>\n",
              "      <td>FEMALE</td>\n",
              "      <td>[]</td>\n",
              "    </tr>\n",
              "    <tr>\n",
              "      <th>1632</th>\n",
              "      <td>1962</td>\n",
              "      <td>WESTERN</td>\n",
              "      <td>2</td>\n",
              "      <td>FEMALE</td>\n",
              "      <td>[]</td>\n",
              "    </tr>\n",
              "    <tr>\n",
              "      <th>1597</th>\n",
              "      <td>1962</td>\n",
              "      <td>WESTERN</td>\n",
              "      <td>3</td>\n",
              "      <td>MALE</td>\n",
              "      <td>[]</td>\n",
              "    </tr>\n",
              "    <tr>\n",
              "      <th>1635</th>\n",
              "      <td>1965</td>\n",
              "      <td>NORTHERN</td>\n",
              "      <td>2</td>\n",
              "      <td>FEMALE</td>\n",
              "      <td>[]</td>\n",
              "    </tr>\n",
              "    <tr>\n",
              "      <th>1564</th>\n",
              "      <td>1952</td>\n",
              "      <td>NORTHERN</td>\n",
              "      <td>3</td>\n",
              "      <td>MALE</td>\n",
              "      <td>[]</td>\n",
              "    </tr>\n",
              "  </tbody>\n",
              "</table>\n",
              "</div>"
            ],
            "text/plain": [
              "     meta.birth_year meta.dialect_area meta.education meta.sex vectors\n",
              "id                                                                    \n",
              "1519            1971     SOUTH MIDLAND              1   FEMALE      []\n",
              "1632            1962           WESTERN              2   FEMALE      []\n",
              "1597            1962           WESTERN              3     MALE      []\n",
              "1635            1965          NORTHERN              2   FEMALE      []\n",
              "1564            1952          NORTHERN              3     MALE      []"
            ]
          },
          "execution_count": 26,
          "metadata": {},
          "output_type": "execute_result"
        }
      ],
      "source": [
        "# We can even generate dataframes of each component\n",
        "switchboard_corpus.get_speakers_dataframe().head()\n",
        "# corpus.get_utterances_dataframe()\n",
        "# corpus.get_conversations_dataframe()"
      ]
    },
    {
      "cell_type": "markdown",
      "metadata": {
        "id": "CJrfrA508-dQ"
      },
      "source": [
        "### Component functionality"
      ]
    },
    {
      "cell_type": "markdown",
      "metadata": {
        "id": "ftC2OOT-8-dR"
      },
      "source": [
        "Each component object comes with its own set of methods and functions to enable data exploration and higher-level analyses."
      ]
    },
    {
      "cell_type": "markdown",
      "metadata": {
        "id": "mWnrqu7P8-dR"
      },
      "source": [
        "#### Inter-operability between components"
      ]
    },
    {
      "cell_type": "markdown",
      "metadata": {
        "id": "N-7HCBwy8-dR"
      },
      "source": [
        "Each Conversation, Utterance, Speaker belongs to a single Corpus object. In addition, ConvoKit has been purposefully designed such that it is straightforward to navigate between these different components."
      ]
    },
    {
      "cell_type": "code",
      "execution_count": null,
      "metadata": {
        "id": "HzrQUiUx8-dR",
        "outputId": "a815ddad-572b-481d-b95c-c21f259036a5"
      },
      "outputs": [
        {
          "data": {
            "text/html": [
              "\n",
              "  <style>\n",
              "    pre {\n",
              "        white-space: pre-wrap;\n",
              "    }\n",
              "  </style>\n",
              "  "
            ],
            "text/plain": [
              "<IPython.core.display.HTML object>"
            ]
          },
          "metadata": {},
          "output_type": "display_data"
        }
      ],
      "source": [
        "# consider this sequence of operations that highlight how to navigate between components\n",
        "utt = corpus.random_utterance()\n",
        "convo = utt.get_conversation() # get the Conversation the Utterance belongs to\n",
        "spkr = utt.speaker # get the Speaker who made the Utterance\n",
        "\n",
        "spkr_convos = list(spkr.iter_conversations())\n",
        "spkr_utts = list(spkr.iter_utterances())\n",
        "\n",
        "convo_spkrs = list(convo.iter_utterances())\n",
        "convo_utts = list(convo.iter_speakers())"
      ]
    },
    {
      "cell_type": "markdown",
      "metadata": {
        "id": "T383f2cf8-dS"
      },
      "source": [
        "To spell it out:\n",
        "1. You can navigate from each Utterance to the Conversation it belongs to or the Speaker that made it.\n",
        "2. You can navigate from each Speaker to the Utterances that they have made or the Conversations they have participated in.\n",
        "3. You can navigate from each Conversation to the Utterances that compose it or the Speakers that participated in it."
      ]
    },
    {
      "cell_type": "markdown",
      "metadata": {
        "id": "OGCoM0vB8-dS"
      },
      "source": [
        "This enables more sophisticated analyses such as tracking a Speaker's behavior across the Conversations they have participated in or characterizing a Conversation by the Utterances that form it."
      ]
    },
    {
      "cell_type": "markdown",
      "metadata": {
        "id": "LAv0XwvE8-dS"
      },
      "source": [
        "#### DataFrame representations from each component object"
      ]
    },
    {
      "cell_type": "markdown",
      "metadata": {
        "id": "wXc5HFEz8-dS"
      },
      "source": [
        "In addition, because Conversations can be conceived of as collections of Utterances and Speakers, and Speakers collections of Utterances and Conversations, Conversations/Speakers have their own set of iterators (as shown above) and even support DataFrame generation:"
      ]
    },
    {
      "cell_type": "code",
      "execution_count": null,
      "metadata": {
        "id": "vDLmojCQ8-dS",
        "outputId": "320ab460-613e-432a-b3d4-1d09e9ca608d"
      },
      "outputs": [
        {
          "data": {
            "text/html": [
              "\n",
              "  <style>\n",
              "    pre {\n",
              "        white-space: pre-wrap;\n",
              "    }\n",
              "  </style>\n",
              "  "
            ],
            "text/plain": [
              "<IPython.core.display.HTML object>"
            ]
          },
          "metadata": {},
          "output_type": "display_data"
        },
        {
          "data": {
            "text/html": [
              "<div>\n",
              "<style scoped>\n",
              "    .dataframe tbody tr th:only-of-type {\n",
              "        vertical-align: middle;\n",
              "    }\n",
              "\n",
              "    .dataframe tbody tr th {\n",
              "        vertical-align: top;\n",
              "    }\n",
              "\n",
              "    .dataframe thead th {\n",
              "        text-align: right;\n",
              "    }\n",
              "</style>\n",
              "<table border=\"1\" class=\"dataframe\">\n",
              "  <thead>\n",
              "    <tr style=\"text-align: right;\">\n",
              "      <th></th>\n",
              "      <th>timestamp</th>\n",
              "      <th>text</th>\n",
              "      <th>speaker</th>\n",
              "      <th>reply_to</th>\n",
              "      <th>conversation_id</th>\n",
              "      <th>meta.author_flair_text</th>\n",
              "      <th>meta.gilded</th>\n",
              "      <th>meta.gildings</th>\n",
              "      <th>meta.permalink</th>\n",
              "      <th>meta.retrieved_on</th>\n",
              "      <th>meta.score</th>\n",
              "      <th>meta.stickied</th>\n",
              "      <th>meta.subreddit</th>\n",
              "      <th>meta.top_level_comment</th>\n",
              "    </tr>\n",
              "    <tr>\n",
              "      <th>id</th>\n",
              "      <th></th>\n",
              "      <th></th>\n",
              "      <th></th>\n",
              "      <th></th>\n",
              "      <th></th>\n",
              "      <th></th>\n",
              "      <th></th>\n",
              "      <th></th>\n",
              "      <th></th>\n",
              "      <th></th>\n",
              "      <th></th>\n",
              "      <th></th>\n",
              "      <th></th>\n",
              "      <th></th>\n",
              "    </tr>\n",
              "  </thead>\n",
              "  <tbody>\n",
              "    <tr>\n",
              "      <th>9kteh4</th>\n",
              "      <td>1538506072</td>\n",
              "      <td></td>\n",
              "      <td>AlmondMilkish</td>\n",
              "      <td>None</td>\n",
              "      <td>9kteh4</td>\n",
              "      <td></td>\n",
              "      <td>0</td>\n",
              "      <td>{'gid_1': 0, 'gid_2': 0, 'gid_3': 0}</td>\n",
              "      <td>/r/Cornell/comments/9kteh4/i_did_what_no_one_a...</td>\n",
              "      <td>1542546921</td>\n",
              "      <td>101</td>\n",
              "      <td>False</td>\n",
              "      <td>Cornell</td>\n",
              "      <td>None</td>\n",
              "    </tr>\n",
              "    <tr>\n",
              "      <th>9h1di3</th>\n",
              "      <td>1537324925</td>\n",
              "      <td>Haha I hate myself drop me a pm 👌</td>\n",
              "      <td>AlmondMilkish</td>\n",
              "      <td>None</td>\n",
              "      <td>9h1di3</td>\n",
              "      <td></td>\n",
              "      <td>0</td>\n",
              "      <td>{'gid_1': 0, 'gid_2': 0, 'gid_3': 0}</td>\n",
              "      <td>/r/Cornell/comments/9h1di3/any_furries_who_som...</td>\n",
              "      <td>1540143438</td>\n",
              "      <td>23</td>\n",
              "      <td>False</td>\n",
              "      <td>Cornell</td>\n",
              "      <td>None</td>\n",
              "    </tr>\n",
              "    <tr>\n",
              "      <th>e68frym</th>\n",
              "      <td>1537325228</td>\n",
              "      <td>Lol ive seen him! Never talked to him tho. \\nN...</td>\n",
              "      <td>AlmondMilkish</td>\n",
              "      <td>e68fqpo</td>\n",
              "      <td>9h1di3</td>\n",
              "      <td></td>\n",
              "      <td>0</td>\n",
              "      <td>{'gid_1': 0, 'gid_2': 0, 'gid_3': 0}</td>\n",
              "      <td>/r/Cornell/comments/9h1di3/any_furries_who_som...</td>\n",
              "      <td>1539212587</td>\n",
              "      <td>19</td>\n",
              "      <td>False</td>\n",
              "      <td>Cornell</td>\n",
              "      <td>e68fqpo</td>\n",
              "    </tr>\n",
              "    <tr>\n",
              "      <th>e68gz0s</th>\n",
              "      <td>1537326478</td>\n",
              "      <td>That mustve been interesting tbh.</td>\n",
              "      <td>AlmondMilkish</td>\n",
              "      <td>e68gq7y</td>\n",
              "      <td>9h1di3</td>\n",
              "      <td></td>\n",
              "      <td>0</td>\n",
              "      <td>{'gid_1': 0, 'gid_2': 0, 'gid_3': 0}</td>\n",
              "      <td>/r/Cornell/comments/9h1di3/any_furries_who_som...</td>\n",
              "      <td>1539213147</td>\n",
              "      <td>2</td>\n",
              "      <td>False</td>\n",
              "      <td>Cornell</td>\n",
              "      <td>e68gq7y</td>\n",
              "    </tr>\n",
              "    <tr>\n",
              "      <th>e68hbpc</th>\n",
              "      <td>1537326859</td>\n",
              "      <td>Aw thanks dude. Honestly just cuz I wanna play...</td>\n",
              "      <td>AlmondMilkish</td>\n",
              "      <td>e68h9yl</td>\n",
              "      <td>9h1di3</td>\n",
              "      <td></td>\n",
              "      <td>0</td>\n",
              "      <td>{'gid_1': 0, 'gid_2': 0, 'gid_3': 0}</td>\n",
              "      <td>/r/Cornell/comments/9h1di3/any_furries_who_som...</td>\n",
              "      <td>1539213295</td>\n",
              "      <td>3</td>\n",
              "      <td>False</td>\n",
              "      <td>Cornell</td>\n",
              "      <td>e68h9yl</td>\n",
              "    </tr>\n",
              "  </tbody>\n",
              "</table>\n",
              "</div>"
            ],
            "text/plain": [
              "          timestamp                                               text  \\\n",
              "id                                                                       \n",
              "9kteh4   1538506072                                                      \n",
              "9h1di3   1537324925                  Haha I hate myself drop me a pm 👌   \n",
              "e68frym  1537325228  Lol ive seen him! Never talked to him tho. \\nN...   \n",
              "e68gz0s  1537326478                  That mustve been interesting tbh.   \n",
              "e68hbpc  1537326859  Aw thanks dude. Honestly just cuz I wanna play...   \n",
              "\n",
              "               speaker reply_to conversation_id meta.author_flair_text  \\\n",
              "id                                                                       \n",
              "9kteh4   AlmondMilkish     None          9kteh4                          \n",
              "9h1di3   AlmondMilkish     None          9h1di3                          \n",
              "e68frym  AlmondMilkish  e68fqpo          9h1di3                          \n",
              "e68gz0s  AlmondMilkish  e68gq7y          9h1di3                          \n",
              "e68hbpc  AlmondMilkish  e68h9yl          9h1di3                          \n",
              "\n",
              "        meta.gilded                         meta.gildings  \\\n",
              "id                                                          \n",
              "9kteh4            0  {'gid_1': 0, 'gid_2': 0, 'gid_3': 0}   \n",
              "9h1di3            0  {'gid_1': 0, 'gid_2': 0, 'gid_3': 0}   \n",
              "e68frym           0  {'gid_1': 0, 'gid_2': 0, 'gid_3': 0}   \n",
              "e68gz0s           0  {'gid_1': 0, 'gid_2': 0, 'gid_3': 0}   \n",
              "e68hbpc           0  {'gid_1': 0, 'gid_2': 0, 'gid_3': 0}   \n",
              "\n",
              "                                            meta.permalink meta.retrieved_on  \\\n",
              "id                                                                             \n",
              "9kteh4   /r/Cornell/comments/9kteh4/i_did_what_no_one_a...        1542546921   \n",
              "9h1di3   /r/Cornell/comments/9h1di3/any_furries_who_som...        1540143438   \n",
              "e68frym  /r/Cornell/comments/9h1di3/any_furries_who_som...        1539212587   \n",
              "e68gz0s  /r/Cornell/comments/9h1di3/any_furries_who_som...        1539213147   \n",
              "e68hbpc  /r/Cornell/comments/9h1di3/any_furries_who_som...        1539213295   \n",
              "\n",
              "        meta.score meta.stickied meta.subreddit meta.top_level_comment  \n",
              "id                                                                      \n",
              "9kteh4         101         False        Cornell                   None  \n",
              "9h1di3          23         False        Cornell                   None  \n",
              "e68frym         19         False        Cornell                e68fqpo  \n",
              "e68gz0s          2         False        Cornell                e68gq7y  \n",
              "e68hbpc          3         False        Cornell                e68h9yl  "
            ]
          },
          "execution_count": 28,
          "metadata": {},
          "output_type": "execute_result"
        }
      ],
      "source": [
        "spkr.get_utterances_dataframe().head()\n",
        "# spkr.get_conversations_dataframe()\n",
        "# convo.get_utterances_dataframe()\n",
        "# convo.get_speakers_dataframe()"
      ]
    },
    {
      "cell_type": "markdown",
      "metadata": {
        "id": "noTdD2Kl8-dS"
      },
      "source": [
        "### Conversation"
      ]
    },
    {
      "cell_type": "markdown",
      "metadata": {
        "id": "mlmaiAUN8-dU"
      },
      "source": [
        "In particular, we want to highlight some of the functionality related to Conversation structure. The structure of a Conversation (i.e. who replies to whom) may not be straightforward to recreate from conversational data in most setups. In ConvoKit however, using the Utterance reply_to attribute, Conversations are automatically encoded with conversation structure."
      ]
    },
    {
      "cell_type": "code",
      "execution_count": null,
      "metadata": {
        "id": "vri07Snj8-dU",
        "outputId": "2815262a-336c-4490-c76f-ea5943c8b9c3"
      },
      "outputs": [
        {
          "data": {
            "text/html": [
              "\n",
              "  <style>\n",
              "    pre {\n",
              "        white-space: pre-wrap;\n",
              "    }\n",
              "  </style>\n",
              "  "
            ],
            "text/plain": [
              "<IPython.core.display.HTML object>"
            ]
          },
          "metadata": {},
          "output_type": "display_data"
        },
        {
          "name": "stdout",
          "output_type": "stream",
          "text": [
            "Conversation('id': '7yy032', 'utterances': ['7yy032', 'duk1rlx', 'duk1rrw', 'duk2cue', 'duk99zc', 'dukhv8f', 'dulmtzw', 'dum5ufw', 'dum629f', 'dum7epw', 'dupzllr', 'duqb609'], 'meta': {'title': 'CS minor advice?', 'num_comments': 11, 'domain': 'self.Cornell', 'timestamp': 1519150001, 'subreddit': 'Cornell', 'gilded': 0, 'gildings': None, 'stickied': False, 'author_flair_text': ''})\n"
          ]
        }
      ],
      "source": [
        "convo = corpus.get_conversation('7yy032')\n",
        "print(convo)"
      ]
    },
    {
      "cell_type": "markdown",
      "metadata": {
        "id": "ta_7gE0S8-dU"
      },
      "source": [
        "In this example, we can visualize the conversation's structure as follows:"
      ]
    },
    {
      "cell_type": "code",
      "execution_count": null,
      "metadata": {
        "id": "3dh9p_3O8-dU",
        "outputId": "386c6db2-41b8-4899-a6e8-ea28ba3dca70"
      },
      "outputs": [
        {
          "data": {
            "text/html": [
              "\n",
              "  <style>\n",
              "    pre {\n",
              "        white-space: pre-wrap;\n",
              "    }\n",
              "  </style>\n",
              "  "
            ],
            "text/plain": [
              "<IPython.core.display.HTML object>"
            ]
          },
          "metadata": {},
          "output_type": "display_data"
        },
        {
          "name": "stdout",
          "output_type": "stream",
          "text": [
            "smoothcarrot\n",
            "    alated\n",
            "        Darnit_Bot\n",
            "        smoothcarrot\n",
            "            RadCentrism\n",
            "            alated\n",
            "        l33tnerd\n",
            "            alated\n",
            "                l33tnerd\n",
            "                    smoothcarrot\n",
            "                        l33tnerd\n",
            "    gandalf-the-gray\n"
          ]
        }
      ],
      "source": [
        "convo.print_conversation_structure()"
      ]
    },
    {
      "cell_type": "markdown",
      "metadata": {
        "id": "pBuzz62r8-dU"
      },
      "source": [
        "This corresponds exactly to how this post thread would look like in Reddit (smoothcarrot makes the post, while alated and gandalf-the-gray make top-level comments.) For each Utterance, just the Speaker's name is printed, for easy visualization of the thread structure, but we can configure this to print whatever we'd like for each Utterance."
      ]
    },
    {
      "cell_type": "markdown",
      "metadata": {
        "id": "9qKmHMDV8-dV"
      },
      "source": [
        "(As a quick contrast, we print the structure of a Conversation from the Switchboard corpus, which reflects the structure of most offline conversations.)"
      ]
    },
    {
      "cell_type": "code",
      "execution_count": null,
      "metadata": {
        "id": "iFm_5Rhq8-dV",
        "outputId": "d6dc1077-4a69-43fd-e8b6-eeeca492e02e"
      },
      "outputs": [
        {
          "data": {
            "text/html": [
              "\n",
              "  <style>\n",
              "    pre {\n",
              "        white-space: pre-wrap;\n",
              "    }\n",
              "  </style>\n",
              "  "
            ],
            "text/plain": [
              "<IPython.core.display.HTML object>"
            ]
          },
          "metadata": {},
          "output_type": "display_data"
        },
        {
          "name": "stdout",
          "output_type": "stream",
          "text": [
            "4771-0\n",
            "    4771-1\n",
            "        4771-2\n",
            "            4771-3\n",
            "                4771-4\n",
            "                    4771-5\n",
            "                        4771-6\n",
            "                            4771-7\n",
            "                                4771-8\n",
            "                                    4771-9\n",
            "                                        4771-10\n",
            "                                            4771-11\n",
            "                                                4771-12\n",
            "                                                    4771-13\n",
            "                                                        4771-14\n",
            "                                                            4771-15\n",
            "                                                                4771-16\n",
            "                                                                    4771-17\n",
            "                                                                        4771-18\n",
            "                                                                            4771-19\n",
            "                                                                                4771-20\n",
            "                                                                                    4771-21\n",
            "                                                                                        4771-22\n",
            "                                                                                            4771-23\n",
            "                                                                                                4771-24\n",
            "                                                                                                    4771-25\n"
          ]
        }
      ],
      "source": [
        "# Instead of printing the Speaker ID, we print the Utterance ID\n",
        "switchboard_corpus.get_conversation('4771-0').print_conversation_structure(lambda utt: utt.id)"
      ]
    },
    {
      "cell_type": "markdown",
      "metadata": {
        "id": "bLVfZwBm8-dV"
      },
      "source": [
        "We get a 'linear' conversation that does not branch out into subtrees."
      ]
    },
    {
      "cell_type": "markdown",
      "metadata": {
        "id": "lmey_9uQ8-dV"
      },
      "source": [
        "Back to the r/Cornell conversation, we can also configure this method to print the text at each Utterance, albeit truncated here for readability:"
      ]
    },
    {
      "cell_type": "code",
      "execution_count": null,
      "metadata": {
        "id": "xTBaeTGu8-dV",
        "outputId": "a5488dfb-eedb-4fd8-fc87-409ee86099bb"
      },
      "outputs": [
        {
          "data": {
            "text/html": [
              "\n",
              "  <style>\n",
              "    pre {\n",
              "        white-space: pre-wrap;\n",
              "    }\n",
              "  </style>\n",
              "  "
            ],
            "text/plain": [
              "<IPython.core.display.HTML object>"
            ]
          },
          "metadata": {},
          "output_type": "display_data"
        },
        {
          "name": "stdout",
          "output_type": "stream",
          "text": [
            "I'm an junior info science major and I'm thinking about completing a CS minor. H\n",
            "\n",
            "    I don't think there's a straight answer to this. :/ Especially since \"useful\" wi\n",
            "\n",
            "        What a *darn* shame..\n",
            "***\n",
            "^^Darn ^^Counter: ^^451121\n",
            "\n",
            "        Do u think I should try to stick with 3110 this semester?\n",
            "\n",
            "            I mean, you *could*. You missed a week, but the slides are online so you can cat\n",
            "\n",
            "            It's up to you! Being behind one week isn't bad at all (there are always office \n",
            "\n",
            "        I disagree with saying that you'll *never* use it. Functional ideas have made th\n",
            "\n",
            "            I agree with you! Functional concepts can be found in many languages that are us\n",
            "\n",
            "                Hmm, I guess my experience differs, then; I find myself using these concepts qui\n",
            "\n",
            "                    Thanks for your insight.  I probably wont be continuing with 3110 this semester \n",
            "\n",
            "                        I personally liked 3110 better, but this is very dependent on your own interests\n",
            "\n",
            "    1. Go to office hours in general when you get stuck. Also you can pm me if you n\n",
            "\n"
          ]
        }
      ],
      "source": [
        "convo.print_conversation_structure(lambda utt: utt.text[:80] + \"\\n\")"
      ]
    },
    {
      "cell_type": "markdown",
      "metadata": {
        "id": "zw8L408w8-dV"
      },
      "source": [
        "We can even verify this by finding the subreddit thread online:"
      ]
    },
    {
      "cell_type": "code",
      "execution_count": null,
      "metadata": {
        "id": "cKK0LJIc8-dV",
        "outputId": "9613c534-ca7a-432d-be4d-506270c89c7f"
      },
      "outputs": [
        {
          "data": {
            "text/html": [
              "\n",
              "  <style>\n",
              "    pre {\n",
              "        white-space: pre-wrap;\n",
              "    }\n",
              "  </style>\n",
              "  "
            ],
            "text/plain": [
              "<IPython.core.display.HTML object>"
            ]
          },
          "metadata": {},
          "output_type": "display_data"
        },
        {
          "name": "stdout",
          "output_type": "stream",
          "text": [
            "7yy032\n",
            "    duk1rlx\n",
            "        duk1rrw\n",
            "        duk2cue\n",
            "            duk99zc\n",
            "            dum629f\n",
            "        dukhv8f\n",
            "            dum5ufw\n",
            "                dum7epw\n",
            "                    dupzllr\n",
            "                        duqb609\n",
            "    dulmtzw\n"
          ]
        }
      ],
      "source": [
        "convo.print_conversation_structure(lambda utt: utt.id)"
      ]
    },
    {
      "cell_type": "code",
      "execution_count": null,
      "metadata": {
        "id": "uSP5RMeq8-dW",
        "outputId": "c376bdf2-7c55-4401-b729-c56e36af82da"
      },
      "outputs": [
        {
          "data": {
            "text/html": [
              "\n",
              "  <style>\n",
              "    pre {\n",
              "        white-space: pre-wrap;\n",
              "    }\n",
              "  </style>\n",
              "  "
            ],
            "text/plain": [
              "<IPython.core.display.HTML object>"
            ]
          },
          "metadata": {},
          "output_type": "display_data"
        }
      ],
      "source": [
        "# Since the first utterance has ID '7yy032'\n",
        "first_utt = corpus.get_utterance('7yy032')"
      ]
    },
    {
      "cell_type": "code",
      "execution_count": null,
      "metadata": {
        "id": "7DC1qsXE8-dW",
        "outputId": "f22a4c7d-dbe9-4ac4-d0fe-100dce70da8b"
      },
      "outputs": [
        {
          "data": {
            "text/html": [
              "\n",
              "  <style>\n",
              "    pre {\n",
              "        white-space: pre-wrap;\n",
              "    }\n",
              "  </style>\n",
              "  "
            ],
            "text/plain": [
              "<IPython.core.display.HTML object>"
            ]
          },
          "metadata": {},
          "output_type": "display_data"
        },
        {
          "data": {
            "text/plain": [
              "{'score': 7,\n",
              " 'top_level_comment': None,\n",
              " 'retrieved_on': 1520570304,\n",
              " 'gilded': 0,\n",
              " 'gildings': None,\n",
              " 'subreddit': 'Cornell',\n",
              " 'stickied': False,\n",
              " 'permalink': '/r/Cornell/comments/7yy032/cs_minor_advice/',\n",
              " 'author_flair_text': ''}"
            ]
          },
          "execution_count": 35,
          "metadata": {},
          "output_type": "execute_result"
        }
      ],
      "source": [
        "first_utt.meta"
      ]
    },
    {
      "cell_type": "markdown",
      "metadata": {
        "id": "W41jSPxc8-dW"
      },
      "source": [
        "Let's use the permalink to find the thread: \n",
        "https://old.reddit.com/r/Cornell/comments/7yy032/cs_minor_advice/"
      ]
    },
    {
      "cell_type": "markdown",
      "metadata": {
        "id": "AW7S6ntV8-dW"
      },
      "source": [
        "We see that this thread has been reconstructed accurately in this r/Cornell corpus."
      ]
    },
    {
      "cell_type": "markdown",
      "metadata": {
        "id": "hxgsGfmu8-dW"
      },
      "source": [
        "#### Conversation traversal"
      ]
    },
    {
      "cell_type": "markdown",
      "metadata": {
        "id": "Ob7VMxRd8-dW"
      },
      "source": [
        "Because the conversation tree structure is preserved, we can even:"
      ]
    },
    {
      "cell_type": "code",
      "execution_count": null,
      "metadata": {
        "id": "sGSK2Jut8-dW",
        "outputId": "2ac82106-d02b-4d4f-e1f0-2abdec9ec007"
      },
      "outputs": [
        {
          "data": {
            "text/html": [
              "\n",
              "  <style>\n",
              "    pre {\n",
              "        white-space: pre-wrap;\n",
              "    }\n",
              "  </style>\n",
              "  "
            ],
            "text/plain": [
              "<IPython.core.display.HTML object>"
            ]
          },
          "metadata": {},
          "output_type": "display_data"
        },
        {
          "name": "stdout",
          "output_type": "stream",
          "text": [
            "Breadth first:\n",
            "['smoothcarrot', 'alated', 'gandalf-the-gray', 'Darnit_Bot', 'smoothcarrot', 'l33tnerd', 'RadCentrism', 'alated', 'alated', 'l33tnerd', 'smoothcarrot', 'l33tnerd'] \n",
            "\n",
            "Depth first:\n",
            "['smoothcarrot', 'alated', 'Darnit_Bot', 'smoothcarrot', 'RadCentrism', 'alated', 'l33tnerd', 'alated', 'l33tnerd', 'smoothcarrot', 'l33tnerd', 'gandalf-the-gray'] \n",
            "\n",
            "Preorder:\n",
            "['smoothcarrot', 'alated', 'Darnit_Bot', 'smoothcarrot', 'RadCentrism', 'alated', 'l33tnerd', 'alated', 'l33tnerd', 'smoothcarrot', 'l33tnerd', 'gandalf-the-gray'] \n",
            "\n",
            "Postorder:\n",
            "['Darnit_Bot', 'RadCentrism', 'alated', 'smoothcarrot', 'l33tnerd', 'smoothcarrot', 'l33tnerd', 'alated', 'l33tnerd', 'alated', 'gandalf-the-gray', 'smoothcarrot'] \n",
            "\n",
            "For reference, here is the structure of the thread again:\n",
            "smoothcarrot\n",
            "    alated\n",
            "        Darnit_Bot\n",
            "        smoothcarrot\n",
            "            RadCentrism\n",
            "            alated\n",
            "        l33tnerd\n",
            "            alated\n",
            "                l33tnerd\n",
            "                    smoothcarrot\n",
            "                        l33tnerd\n",
            "    gandalf-the-gray\n"
          ]
        }
      ],
      "source": [
        "# Traverse the conversation tree in interesting ways\n",
        "print(\"Breadth first:\")\n",
        "print([utt.speaker.id for utt in convo.traverse('bfs')],\"\\n\")\n",
        "\n",
        "print(\"Depth first:\")\n",
        "print([utt.speaker.id  for utt in convo.traverse('dfs')],\"\\n\")\n",
        "\n",
        "print(\"Preorder:\")\n",
        "print([utt.speaker.id  for utt in convo.traverse('preorder')],\"\\n\")\n",
        "\n",
        "print(\"Postorder:\")\n",
        "print([utt.speaker.id  for utt in convo.traverse('postorder')],\"\\n\")\n",
        "\n",
        "print(\"For reference, here is the structure of the thread again:\")\n",
        "convo.print_conversation_structure()"
      ]
    },
    {
      "cell_type": "code",
      "execution_count": null,
      "metadata": {
        "id": "jiqy_fqQ8-dX",
        "outputId": "0e02debf-2fd5-4931-d0cb-c76e19791db0"
      },
      "outputs": [
        {
          "data": {
            "text/html": [
              "\n",
              "  <style>\n",
              "    pre {\n",
              "        white-space: pre-wrap;\n",
              "    }\n",
              "  </style>\n",
              "  "
            ],
            "text/plain": [
              "<IPython.core.display.HTML object>"
            ]
          },
          "metadata": {},
          "output_type": "display_data"
        }
      ],
      "source": [
        "# Get all conversational 'paths' (i.e. paths from root utterances to leaf utterances in this Conversation tree)\n",
        "paths = convo.get_root_to_leaf_paths()\n",
        "longest_paths = convo.get_longest_paths()"
      ]
    },
    {
      "cell_type": "code",
      "execution_count": null,
      "metadata": {
        "id": "PyxLjxKC8-dX",
        "outputId": "6ff69031-9435-4d18-f4e4-a53e71fd716a"
      },
      "outputs": [
        {
          "data": {
            "text/html": [
              "\n",
              "  <style>\n",
              "    pre {\n",
              "        white-space: pre-wrap;\n",
              "    }\n",
              "  </style>\n",
              "  "
            ],
            "text/plain": [
              "<IPython.core.display.HTML object>"
            ]
          },
          "metadata": {},
          "output_type": "display_data"
        },
        {
          "name": "stdout",
          "output_type": "stream",
          "text": [
            "['7yy032', 'duk1rlx', 'dukhv8f', 'dum5ufw', 'dum7epw', 'dupzllr', 'duqb609']\n"
          ]
        }
      ],
      "source": [
        "for path in longest_paths:\n",
        "    print([utt.id for utt in path])"
      ]
    },
    {
      "cell_type": "markdown",
      "metadata": {
        "id": "1QrfqB5X8-dX"
      },
      "source": [
        "In addition, using the timestamps of Utterances, we can get chronological outputs from Conversations:"
      ]
    },
    {
      "cell_type": "code",
      "execution_count": null,
      "metadata": {
        "id": "r945zQSs8-dX",
        "outputId": "089831d9-15f2-4da7-dcc6-bc2bdf766979"
      },
      "outputs": [
        {
          "data": {
            "text/html": [
              "\n",
              "  <style>\n",
              "    pre {\n",
              "        white-space: pre-wrap;\n",
              "    }\n",
              "  </style>\n",
              "  "
            ],
            "text/plain": [
              "<IPython.core.display.HTML object>"
            ]
          },
          "metadata": {},
          "output_type": "display_data"
        },
        {
          "data": {
            "text/plain": [
              "['smoothcarrot',\n",
              " 'alated',\n",
              " 'Darnit_Bot',\n",
              " 'smoothcarrot',\n",
              " 'RadCentrism',\n",
              " 'l33tnerd',\n",
              " 'gandalf-the-gray',\n",
              " 'alated',\n",
              " 'alated',\n",
              " 'l33tnerd',\n",
              " 'smoothcarrot',\n",
              " 'l33tnerd']"
            ]
          },
          "execution_count": 39,
          "metadata": {},
          "output_type": "execute_result"
        }
      ],
      "source": [
        "[spkr.id for spkr in convo.get_chronological_speaker_list()]"
      ]
    },
    {
      "cell_type": "code",
      "execution_count": null,
      "metadata": {
        "id": "hx6Dzeeg8-dX",
        "outputId": "9f30cf15-3202-482e-a7c7-153ea1c64252"
      },
      "outputs": [
        {
          "data": {
            "text/html": [
              "\n",
              "  <style>\n",
              "    pre {\n",
              "        white-space: pre-wrap;\n",
              "    }\n",
              "  </style>\n",
              "  "
            ],
            "text/plain": [
              "<IPython.core.display.HTML object>"
            ]
          },
          "metadata": {},
          "output_type": "display_data"
        },
        {
          "data": {
            "text/plain": [
              "['7yy032',\n",
              " 'duk1rlx',\n",
              " 'duk1rrw',\n",
              " 'duk2cue',\n",
              " 'duk99zc',\n",
              " 'dukhv8f',\n",
              " 'dulmtzw',\n",
              " 'dum5ufw',\n",
              " 'dum629f',\n",
              " 'dum7epw',\n",
              " 'dupzllr',\n",
              " 'duqb609']"
            ]
          },
          "execution_count": 40,
          "metadata": {},
          "output_type": "execute_result"
        }
      ],
      "source": [
        "[utt.id for utt in convo.get_chronological_utterance_list()]"
      ]
    },
    {
      "cell_type": "markdown",
      "metadata": {
        "id": "_lYO-pBK8-dX"
      },
      "source": [
        "## Transformers"
      ]
    },
    {
      "cell_type": "markdown",
      "metadata": {
        "id": "XlGrbDQr8-dX"
      },
      "source": [
        "Finally, we introduce the concept of a **Transformer** -- a type of ConvoKit object that applies a transformation to a Corpus. These transformations / modifications usually come in the form of changed/added metadata for one of the Corpus components. And broadly, they come under three categories: \n",
        "1. Preprocessing\n",
        "2. Feature extraction\n",
        "3. Analysis"
      ]
    },
    {
      "cell_type": "markdown",
      "metadata": {
        "id": "7VrYhOO58-dX"
      },
      "source": [
        "Every **Transformer** has three main methods:\n",
        "1. `fit()` (optionally implemented) - trains/fits some internal model within the Transformer\n",
        "2. `transform()` - transforms/modifies the Corpus \n",
        "3. `summarize()` (optionally implemented) - generates a visually interpretable output that summarizes what the Transformer has learned in fit() or the modifications that have been made to the Corpus in transform()"
      ]
    },
    {
      "cell_type": "markdown",
      "metadata": {
        "id": "ANMd1g4n8-dY"
      },
      "source": [
        "Read more about Transformers here: https://convokit.cornell.edu/documentation/architecture.html#transformer"
      ]
    },
    {
      "cell_type": "markdown",
      "metadata": {
        "id": "j15FYVA-8-dY"
      },
      "source": [
        "We demonstrate now an example of an Analysis Transformer, [FightingWords](https://convokit.cornell.edu/documentation/fightingwords.html). This transformer identifies salient linguistic differences between two distinct groups of Utterances. For this example, we use `reddit-corpus-small` -  a Corpus with Utterances from 100 medium to large subreddits."
      ]
    },
    {
      "cell_type": "code",
      "execution_count": null,
      "metadata": {
        "id": "sBaReySf8-dY",
        "outputId": "82079b16-7287-48be-ce1b-bb3e24bab950"
      },
      "outputs": [
        {
          "data": {
            "text/html": [
              "\n",
              "  <style>\n",
              "    pre {\n",
              "        white-space: pre-wrap;\n",
              "    }\n",
              "  </style>\n",
              "  "
            ],
            "text/plain": [
              "<IPython.core.display.HTML object>"
            ]
          },
          "metadata": {},
          "output_type": "display_data"
        },
        {
          "name": "stdout",
          "output_type": "stream",
          "text": [
            "Dataset already exists at /Users/calebchiam/Documents/GitHub/Cornell-Conversational-Analysis-Toolkit/convokit/tensors/reddit-corpus-small\n"
          ]
        }
      ],
      "source": [
        "corpus = Corpus(download('reddit-corpus-small'))"
      ]
    },
    {
      "cell_type": "code",
      "execution_count": null,
      "metadata": {
        "id": "QepP7N358-dY",
        "outputId": "264662c2-62c4-4c3a-904f-b2cfb983d3f2"
      },
      "outputs": [
        {
          "data": {
            "text/html": [
              "\n",
              "  <style>\n",
              "    pre {\n",
              "        white-space: pre-wrap;\n",
              "    }\n",
              "  </style>\n",
              "  "
            ],
            "text/plain": [
              "<IPython.core.display.HTML object>"
            ]
          },
          "metadata": {},
          "output_type": "display_data"
        },
        {
          "name": "stdout",
          "output_type": "stream",
          "text": [
            "Number of Speakers: 119889\n",
            "Number of Utterances: 297132\n",
            "Number of Conversations: 8286\n"
          ]
        }
      ],
      "source": [
        "corpus.print_summary_stats()"
      ]
    },
    {
      "cell_type": "markdown",
      "metadata": {
        "id": "N46uybpk8-dY"
      },
      "source": [
        "*Exploratory question*: How do utterances from r/atheism differ linguistically from utterances from r/Christianity?"
      ]
    },
    {
      "cell_type": "code",
      "execution_count": null,
      "metadata": {
        "id": "5s7hdI648-dY",
        "outputId": "1edcda1f-3aab-496f-e0d4-2c27ae693c02"
      },
      "outputs": [
        {
          "data": {
            "text/html": [
              "\n",
              "  <style>\n",
              "    pre {\n",
              "        white-space: pre-wrap;\n",
              "    }\n",
              "  </style>\n",
              "  "
            ],
            "text/plain": [
              "<IPython.core.display.HTML object>"
            ]
          },
          "metadata": {},
          "output_type": "display_data"
        }
      ],
      "source": [
        "from convokit import FightingWords"
      ]
    },
    {
      "cell_type": "code",
      "execution_count": null,
      "metadata": {
        "id": "FMd1cos58-dY",
        "outputId": "107acd42-bc60-4764-9e6c-c412f9a206de"
      },
      "outputs": [
        {
          "data": {
            "text/html": [
              "\n",
              "  <style>\n",
              "    pre {\n",
              "        white-space: pre-wrap;\n",
              "    }\n",
              "  </style>\n",
              "  "
            ],
            "text/plain": [
              "<IPython.core.display.HTML object>"
            ]
          },
          "metadata": {},
          "output_type": "display_data"
        },
        {
          "name": "stdout",
          "output_type": "stream",
          "text": [
            "Initializing default CountVectorizer with ngram_range (1, 3)... Done.\n"
          ]
        }
      ],
      "source": [
        "fw = FightingWords()"
      ]
    },
    {
      "cell_type": "markdown",
      "metadata": {
        "id": "wpyka5038-dZ"
      },
      "source": [
        "Using lambda functions, we define two groups of utterances between which we would like to find differences in speech:"
      ]
    },
    {
      "cell_type": "code",
      "execution_count": null,
      "metadata": {
        "id": "yV8XIw7_8-dZ",
        "outputId": "f4bf0db9-aa3b-4192-8fa9-33125509fd94"
      },
      "outputs": [
        {
          "data": {
            "text/html": [
              "\n",
              "  <style>\n",
              "    pre {\n",
              "        white-space: pre-wrap;\n",
              "    }\n",
              "  </style>\n",
              "  "
            ],
            "text/plain": [
              "<IPython.core.display.HTML object>"
            ]
          },
          "metadata": {},
          "output_type": "display_data"
        },
        {
          "name": "stdout",
          "output_type": "stream",
          "text": [
            "class1_func returned 2736 valid corpus components. class2_func returned 2659 valid corpus components.\n",
            "Vocab size is 5034\n",
            "Comparing language...\n",
            "ngram zscores computed.\n"
          ]
        },
        {
          "data": {
            "text/plain": [
              "<convokit.fighting_words.fightingWords.FightingWords at 0x7fc44922b910>"
            ]
          },
          "execution_count": 45,
          "metadata": {},
          "output_type": "execute_result"
        }
      ],
      "source": [
        "fw.fit(corpus, class1_func = lambda utt: utt.meta['subreddit'] == 'Christianity',\n",
        "       class2_func = lambda utt: utt.meta['subreddit'] == 'atheism')"
      ]
    },
    {
      "cell_type": "markdown",
      "metadata": {
        "id": "8QvJCmWz8-dZ"
      },
      "source": [
        "\n",
        "We can see a summary of what it has learned using the ``summarize()`` method."
      ]
    },
    {
      "cell_type": "code",
      "execution_count": null,
      "metadata": {
        "scrolled": false,
        "id": "8Ikmxvhi8-dZ",
        "outputId": "14582575-e727-4268-f7b3-8df462d3f931"
      },
      "outputs": [
        {
          "data": {
            "text/html": [
              "\n",
              "  <style>\n",
              "    pre {\n",
              "        white-space: pre-wrap;\n",
              "    }\n",
              "  </style>\n",
              "  "
            ],
            "text/plain": [
              "<IPython.core.display.HTML object>"
            ]
          },
          "metadata": {},
          "output_type": "display_data"
        },
        {
          "data": {
            "image/png": "[encoded data removed]",
            "text/plain": [
              "<Figure size 1800x1200 with 1 Axes>"
            ]
          },
          "metadata": {
            "needs_background": "light"
          },
          "output_type": "display_data"
        },
        {
          "data": {
            "text/html": [
              "<div>\n",
              "<style scoped>\n",
              "    .dataframe tbody tr th:only-of-type {\n",
              "        vertical-align: middle;\n",
              "    }\n",
              "\n",
              "    .dataframe tbody tr th {\n",
              "        vertical-align: top;\n",
              "    }\n",
              "\n",
              "    .dataframe thead th {\n",
              "        text-align: right;\n",
              "    }\n",
              "</style>\n",
              "<table border=\"1\" class=\"dataframe\">\n",
              "  <thead>\n",
              "    <tr style=\"text-align: right;\">\n",
              "      <th></th>\n",
              "      <th>z-score</th>\n",
              "      <th>class</th>\n",
              "    </tr>\n",
              "    <tr>\n",
              "      <th>ngram</th>\n",
              "      <th></th>\n",
              "      <th></th>\n",
              "    </tr>\n",
              "  </thead>\n",
              "  <tbody>\n",
              "    <tr>\n",
              "      <th>god</th>\n",
              "      <td>-9.664310</td>\n",
              "      <td>r/atheism</td>\n",
              "    </tr>\n",
              "    <tr>\n",
              "      <th>sin</th>\n",
              "      <td>-9.203761</td>\n",
              "      <td>r/atheism</td>\n",
              "    </tr>\n",
              "    <tr>\n",
              "      <th>word</th>\n",
              "      <td>-8.223430</td>\n",
              "      <td>r/atheism</td>\n",
              "    </tr>\n",
              "    <tr>\n",
              "      <th>the word</th>\n",
              "      <td>-8.149449</td>\n",
              "      <td>r/atheism</td>\n",
              "    </tr>\n",
              "    <tr>\n",
              "      <th>over and</th>\n",
              "      <td>-7.718249</td>\n",
              "      <td>r/atheism</td>\n",
              "    </tr>\n",
              "    <tr>\n",
              "      <th>over and over</th>\n",
              "      <td>-7.492056</td>\n",
              "      <td>r/atheism</td>\n",
              "    </tr>\n",
              "    <tr>\n",
              "      <th>and over</th>\n",
              "      <td>-7.492056</td>\n",
              "      <td>r/atheism</td>\n",
              "    </tr>\n",
              "    <tr>\n",
              "      <th>christ</th>\n",
              "      <td>-7.293253</td>\n",
              "      <td>r/atheism</td>\n",
              "    </tr>\n",
              "    <tr>\n",
              "      <th>jesus</th>\n",
              "      <td>-7.132369</td>\n",
              "      <td>r/atheism</td>\n",
              "    </tr>\n",
              "    <tr>\n",
              "      <th>church</th>\n",
              "      <td>-6.939498</td>\n",
              "      <td>r/atheism</td>\n",
              "    </tr>\n",
              "    <tr>\n",
              "      <th>gay</th>\n",
              "      <td>-6.740083</td>\n",
              "      <td>r/atheism</td>\n",
              "    </tr>\n",
              "    <tr>\n",
              "      <th>scripture</th>\n",
              "      <td>-6.690918</td>\n",
              "      <td>r/atheism</td>\n",
              "    </tr>\n",
              "    <tr>\n",
              "      <th>the church</th>\n",
              "      <td>-6.603047</td>\n",
              "      <td>r/atheism</td>\n",
              "    </tr>\n",
              "    <tr>\n",
              "      <th>homosexuality</th>\n",
              "      <td>-6.133875</td>\n",
              "      <td>r/atheism</td>\n",
              "    </tr>\n",
              "    <tr>\n",
              "      <th>of god</th>\n",
              "      <td>-5.980922</td>\n",
              "      <td>r/atheism</td>\n",
              "    </tr>\n",
              "    <tr>\n",
              "      <th>bible</th>\n",
              "      <td>-5.498702</td>\n",
              "      <td>r/atheism</td>\n",
              "    </tr>\n",
              "    <tr>\n",
              "      <th>the bible</th>\n",
              "      <td>-5.399591</td>\n",
              "      <td>r/atheism</td>\n",
              "    </tr>\n",
              "    <tr>\n",
              "      <th>john</th>\n",
              "      <td>-5.370937</td>\n",
              "      <td>r/atheism</td>\n",
              "    </tr>\n",
              "    <tr>\n",
              "      <th>love</th>\n",
              "      <td>-5.301349</td>\n",
              "      <td>r/atheism</td>\n",
              "    </tr>\n",
              "    <tr>\n",
              "      <th>holy</th>\n",
              "      <td>-5.260555</td>\n",
              "      <td>r/atheism</td>\n",
              "    </tr>\n",
              "    <tr>\n",
              "      <th>men</th>\n",
              "      <td>-5.042867</td>\n",
              "      <td>r/atheism</td>\n",
              "    </tr>\n",
              "    <tr>\n",
              "      <th>israel</th>\n",
              "      <td>-5.008789</td>\n",
              "      <td>r/atheism</td>\n",
              "    </tr>\n",
              "    <tr>\n",
              "      <th>god and</th>\n",
              "      <td>-4.960325</td>\n",
              "      <td>r/atheism</td>\n",
              "    </tr>\n",
              "    <tr>\n",
              "      <th>and</th>\n",
              "      <td>-4.955100</td>\n",
              "      <td>r/atheism</td>\n",
              "    </tr>\n",
              "    <tr>\n",
              "      <th>with god</th>\n",
              "      <td>-4.844839</td>\n",
              "      <td>r/atheism</td>\n",
              "    </tr>\n",
              "    <tr>\n",
              "      <th>heaven</th>\n",
              "      <td>-4.836304</td>\n",
              "      <td>r/atheism</td>\n",
              "    </tr>\n",
              "    <tr>\n",
              "      <th>shall</th>\n",
              "      <td>-4.787209</td>\n",
              "      <td>r/atheism</td>\n",
              "    </tr>\n",
              "    <tr>\n",
              "      <th>jewish</th>\n",
              "      <td>-4.769047</td>\n",
              "      <td>r/atheism</td>\n",
              "    </tr>\n",
              "    <tr>\n",
              "      <th>over</th>\n",
              "      <td>-4.669552</td>\n",
              "      <td>r/atheism</td>\n",
              "    </tr>\n",
              "    <tr>\n",
              "      <th>jews</th>\n",
              "      <td>-4.621863</td>\n",
              "      <td>r/atheism</td>\n",
              "    </tr>\n",
              "    <tr>\n",
              "      <th>...</th>\n",
              "      <td>...</td>\n",
              "      <td>...</td>\n",
              "    </tr>\n",
              "    <tr>\n",
              "      <th>atheists</th>\n",
              "      <td>4.351707</td>\n",
              "      <td>r/Christianity</td>\n",
              "    </tr>\n",
              "    <tr>\n",
              "      <th>government</th>\n",
              "      <td>4.351707</td>\n",
              "      <td>r/Christianity</td>\n",
              "    </tr>\n",
              "    <tr>\n",
              "      <th>her</th>\n",
              "      <td>4.352743</td>\n",
              "      <td>r/Christianity</td>\n",
              "    </tr>\n",
              "    <tr>\n",
              "      <th>woman</th>\n",
              "      <td>4.369212</td>\n",
              "      <td>r/Christianity</td>\n",
              "    </tr>\n",
              "    <tr>\n",
              "      <th>using</th>\n",
              "      <td>4.557780</td>\n",
              "      <td>r/Christianity</td>\n",
              "    </tr>\n",
              "    <tr>\n",
              "      <th>circumcision</th>\n",
              "      <td>4.563754</td>\n",
              "      <td>r/Christianity</td>\n",
              "    </tr>\n",
              "    <tr>\n",
              "      <th>atheism</th>\n",
              "      <td>4.563754</td>\n",
              "      <td>r/Christianity</td>\n",
              "    </tr>\n",
              "    <tr>\n",
              "      <th>human</th>\n",
              "      <td>4.588668</td>\n",
              "      <td>r/Christianity</td>\n",
              "    </tr>\n",
              "    <tr>\n",
              "      <th>the article</th>\n",
              "      <td>4.655261</td>\n",
              "      <td>r/Christianity</td>\n",
              "    </tr>\n",
              "    <tr>\n",
              "      <th>crazy</th>\n",
              "      <td>4.712230</td>\n",
              "      <td>r/Christianity</td>\n",
              "    </tr>\n",
              "    <tr>\n",
              "      <th>pretty</th>\n",
              "      <td>4.798202</td>\n",
              "      <td>r/Christianity</td>\n",
              "    </tr>\n",
              "    <tr>\n",
              "      <th>right to</th>\n",
              "      <td>4.808016</td>\n",
              "      <td>r/Christianity</td>\n",
              "    </tr>\n",
              "    <tr>\n",
              "      <th>it</th>\n",
              "      <td>4.863474</td>\n",
              "      <td>r/Christianity</td>\n",
              "    </tr>\n",
              "    <tr>\n",
              "      <th>dont</th>\n",
              "      <td>4.943361</td>\n",
              "      <td>r/Christianity</td>\n",
              "    </tr>\n",
              "    <tr>\n",
              "      <th>the woman</th>\n",
              "      <td>4.977405</td>\n",
              "      <td>r/Christianity</td>\n",
              "    </tr>\n",
              "    <tr>\n",
              "      <th>the baby</th>\n",
              "      <td>5.138412</td>\n",
              "      <td>r/Christianity</td>\n",
              "    </tr>\n",
              "    <tr>\n",
              "      <th>an</th>\n",
              "      <td>5.234585</td>\n",
              "      <td>r/Christianity</td>\n",
              "    </tr>\n",
              "    <tr>\n",
              "      <th>abortion</th>\n",
              "      <td>5.269782</td>\n",
              "      <td>r/Christianity</td>\n",
              "    </tr>\n",
              "    <tr>\n",
              "      <th>fucking</th>\n",
              "      <td>5.447746</td>\n",
              "      <td>r/Christianity</td>\n",
              "    </tr>\n",
              "    <tr>\n",
              "      <th>story</th>\n",
              "      <td>5.779360</td>\n",
              "      <td>r/Christianity</td>\n",
              "    </tr>\n",
              "    <tr>\n",
              "      <th>shit</th>\n",
              "      <td>5.783998</td>\n",
              "      <td>r/Christianity</td>\n",
              "    </tr>\n",
              "    <tr>\n",
              "      <th>article</th>\n",
              "      <td>5.785429</td>\n",
              "      <td>r/Christianity</td>\n",
              "    </tr>\n",
              "    <tr>\n",
              "      <th>url</th>\n",
              "      <td>5.948984</td>\n",
              "      <td>r/Christianity</td>\n",
              "    </tr>\n",
              "    <tr>\n",
              "      <th>trump</th>\n",
              "      <td>6.235655</td>\n",
              "      <td>r/Christianity</td>\n",
              "    </tr>\n",
              "    <tr>\n",
              "      <th>baby</th>\n",
              "      <td>6.896638</td>\n",
              "      <td>r/Christianity</td>\n",
              "    </tr>\n",
              "    <tr>\n",
              "      <th>body</th>\n",
              "      <td>6.993762</td>\n",
              "      <td>r/Christianity</td>\n",
              "    </tr>\n",
              "    <tr>\n",
              "      <th>science</th>\n",
              "      <td>7.084885</td>\n",
              "      <td>r/Christianity</td>\n",
              "    </tr>\n",
              "    <tr>\n",
              "      <th>religious</th>\n",
              "      <td>7.605858</td>\n",
              "      <td>r/Christianity</td>\n",
              "    </tr>\n",
              "    <tr>\n",
              "      <th>religion</th>\n",
              "      <td>7.769434</td>\n",
              "      <td>r/Christianity</td>\n",
              "    </tr>\n",
              "    <tr>\n",
              "      <th>money</th>\n",
              "      <td>7.957425</td>\n",
              "      <td>r/Christianity</td>\n",
              "    </tr>\n",
              "  </tbody>\n",
              "</table>\n",
              "<p>5034 rows × 2 columns</p>\n",
              "</div>"
            ],
            "text/plain": [
              "                z-score           class\n",
              "ngram                                  \n",
              "god           -9.664310       r/atheism\n",
              "sin           -9.203761       r/atheism\n",
              "word          -8.223430       r/atheism\n",
              "the word      -8.149449       r/atheism\n",
              "over and      -7.718249       r/atheism\n",
              "over and over -7.492056       r/atheism\n",
              "and over      -7.492056       r/atheism\n",
              "christ        -7.293253       r/atheism\n",
              "jesus         -7.132369       r/atheism\n",
              "church        -6.939498       r/atheism\n",
              "gay           -6.740083       r/atheism\n",
              "scripture     -6.690918       r/atheism\n",
              "the church    -6.603047       r/atheism\n",
              "homosexuality -6.133875       r/atheism\n",
              "of god        -5.980922       r/atheism\n",
              "bible         -5.498702       r/atheism\n",
              "the bible     -5.399591       r/atheism\n",
              "john          -5.370937       r/atheism\n",
              "love          -5.301349       r/atheism\n",
              "holy          -5.260555       r/atheism\n",
              "men           -5.042867       r/atheism\n",
              "israel        -5.008789       r/atheism\n",
              "god and       -4.960325       r/atheism\n",
              "and           -4.955100       r/atheism\n",
              "with god      -4.844839       r/atheism\n",
              "heaven        -4.836304       r/atheism\n",
              "shall         -4.787209       r/atheism\n",
              "jewish        -4.769047       r/atheism\n",
              "over          -4.669552       r/atheism\n",
              "jews          -4.621863       r/atheism\n",
              "...                 ...             ...\n",
              "atheists       4.351707  r/Christianity\n",
              "government     4.351707  r/Christianity\n",
              "her            4.352743  r/Christianity\n",
              "woman          4.369212  r/Christianity\n",
              "using          4.557780  r/Christianity\n",
              "circumcision   4.563754  r/Christianity\n",
              "atheism        4.563754  r/Christianity\n",
              "human          4.588668  r/Christianity\n",
              "the article    4.655261  r/Christianity\n",
              "crazy          4.712230  r/Christianity\n",
              "pretty         4.798202  r/Christianity\n",
              "right to       4.808016  r/Christianity\n",
              "it             4.863474  r/Christianity\n",
              "dont           4.943361  r/Christianity\n",
              "the woman      4.977405  r/Christianity\n",
              "the baby       5.138412  r/Christianity\n",
              "an             5.234585  r/Christianity\n",
              "abortion       5.269782  r/Christianity\n",
              "fucking        5.447746  r/Christianity\n",
              "story          5.779360  r/Christianity\n",
              "shit           5.783998  r/Christianity\n",
              "article        5.785429  r/Christianity\n",
              "url            5.948984  r/Christianity\n",
              "trump          6.235655  r/Christianity\n",
              "baby           6.896638  r/Christianity\n",
              "body           6.993762  r/Christianity\n",
              "science        7.084885  r/Christianity\n",
              "religious      7.605858  r/Christianity\n",
              "religion       7.769434  r/Christianity\n",
              "money          7.957425  r/Christianity\n",
              "\n",
              "[5034 rows x 2 columns]"
            ]
          },
          "execution_count": 46,
          "metadata": {},
          "output_type": "execute_result"
        }
      ],
      "source": [
        "fw.summarize(corpus, plot=True, class1_name='r/Christianity', class2_name='r/atheism')"
      ]
    },
    {
      "cell_type": "markdown",
      "metadata": {
        "id": "ldAtC8be8-dZ"
      },
      "source": [
        "Not only do we get a visual plot summarizing the differences, we get a DataFrame mapping an n-gram to its z-score (a measure of how salient the n-gram is) and the class it belongs to.\n",
        "\n",
        "As we can see, r/Christianity is comparatively more likely to use terms like 'god', 'sin', and 'christ', while r/atheism uses terms 'money', 'religion', and 'science'."
      ]
    },
    {
      "cell_type": "markdown",
      "metadata": {
        "id": "f1i4PlpO8-dZ"
      },
      "source": [
        "We have gone through the application of the Fighting Words to a corpus. Other Transformers follow a similar pattern. To reiterate:\n",
        "\n",
        "- They are initialized with several configurable parameters.\n",
        "- They may be ``fit()`` on the Corpus if the Transformer needs to learn something from the Corpus.\n",
        "- They can ``transform()`` the corpus to annotate its components with the output of the Transformer.\n",
        "- They can ``summarize()`` their results in a more visual and easily interpreted format -- though in most cases (but not this one), this requires that the Corpus be transformed first.\n",
        "- These ``fit()``, ``transform()``, ``summarize()`` functions have ``selector`` as an argument so you can further specify subsets of the Corpus to analyze.\n",
        "\n",
        "Other transformers can be applied in the same way, and even chained in sequence."
      ]
    },
    {
      "cell_type": "markdown",
      "metadata": {
        "id": "vbIeEPZN8-dZ"
      },
      "source": [
        "This concludes our introductory tutorial to ConvoKit. Read our [documentation](https://convokit.cornell.edu/documentation/) for an exhaustive coverage of ConvoKit's classes and functions, and get in touch with us at our [GitHub repo](https://github.com/CornellNLP/Cornell-Conversational-Analysis-Toolkit) if you would like to add your conversational datasets & methods to ConvoKit or make any feature requests!"
      ]
    }
  ],
  "metadata": {
    "kernelspec": {
      "display_name": "Python 3",
      "language": "python",
      "name": "python3"
    },
    "language_info": {
      "codemirror_mode": {
        "name": "ipython",
        "version": 3
      },
      "file_extension": ".py",
      "mimetype": "text/x-python",
      "name": "python",
      "nbconvert_exporter": "python",
      "pygments_lexer": "ipython3",
      "version": "3.7.6"
    },
    "pycharm": {
      "stem_cell": {
        "cell_type": "raw",
        "source": [],
        "metadata": {
          "collapsed": false
        }
      }
    },
    "colab": {
      "name": "Introduction_to_ConvoKit_Emily Yeh.ipynb",
      "provenance": [],
      "include_colab_link": true
    }
  },
  "nbformat": 4,
  "nbformat_minor": 0
}